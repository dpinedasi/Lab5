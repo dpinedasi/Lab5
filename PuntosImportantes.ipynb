{
 "cells": [
  {
   "cell_type": "code",
   "execution_count": 26,
   "metadata": {},
   "outputs": [],
   "source": [
    "import numpy as np\n",
    "import math as mt\n",
    "from math import pi\n",
    "from math import atan2\n",
    "from roboticstoolbox import *\n",
    "from spatialmath.base import *\n",
    "#np.set_printoptions(suppress=True)\n",
    "\n"
   ]
  },
  {
   "cell_type": "markdown",
   "metadata": {},
   "source": [
    "Agarre\n"
   ]
  },
  {
   "cell_type": "code",
   "execution_count": 27,
   "metadata": {},
   "outputs": [
    {
     "data": {
      "text/plain": [
       "array([[-11,  -8,  -4],\n",
       "       [ 23,  26,  30]])"
      ]
     },
     "execution_count": 27,
     "metadata": {},
     "output_type": "execute_result"
    }
   ],
   "source": [
    "#sacar s\n",
    "xyret=np.array([[0,0,0],\n",
    "               [0,0,0]])\n",
    "pose=np.asanyarray(transl(-15,0,20) @ trotx(-60,'deg')) #-18,0,5.5\n",
    "l=4\n",
    "xin=-15\n",
    "yin=20\n",
    "ang=30\n",
    "for i in range(3):\n",
    "    xyret[0,i]=xin=xin+(l*np.cos(ang*(pi/180)))\n",
    "    xyret[1,i]=yin=yin+(l*np.cos(ang*(pi/180)))\n",
    "xyret\n"
   ]
  },
  {
   "cell_type": "code",
   "execution_count": null,
   "metadata": {},
   "outputs": [],
   "source": [
    "#min radio\n",
    "pose=np.asanyarray(transl(0,7.5,28.2) @ trotx(-5,'deg'))\n",
    "#max radio\n",
    "pose=np.asanyarray(transl(0,20,29.2) @ trotx(-5,'deg'))"
   ]
  }
 ],
 "metadata": {
  "kernelspec": {
   "display_name": "Python 3.8.10 64-bit",
   "language": "python",
   "name": "python3"
  },
  "language_info": {
   "codemirror_mode": {
    "name": "ipython",
    "version": 3
   },
   "file_extension": ".py",
   "mimetype": "text/x-python",
   "name": "python",
   "nbconvert_exporter": "python",
   "pygments_lexer": "ipython3",
   "version": "3.8.10"
  },
  "orig_nbformat": 4,
  "vscode": {
   "interpreter": {
    "hash": "916dbcbb3f70747c44a77c7bcd40155683ae19c65e1c03b4aa3499c5328201f1"
   }
  }
 },
 "nbformat": 4,
 "nbformat_minor": 2
}
